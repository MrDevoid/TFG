{
 "cells": [
  {
   "cell_type": "code",
   "execution_count": 1,
   "metadata": {
    "colab": {},
    "colab_type": "code",
    "id": "O-WykyEd4oPq"
   },
   "outputs": [],
   "source": [
    "import subprocess\n",
    "import glob\n",
    "from pandas.io.parsers import read_csv"
   ]
  },
  {
   "cell_type": "code",
   "execution_count": 2,
   "metadata": {
    "colab": {},
    "colab_type": "code",
    "id": "mMNwtF7F4oPv"
   },
   "outputs": [
    {
     "name": "stdout",
     "output_type": "stream",
     "text": [
      "221\n",
      "200\n",
      "97\n",
      "77\n",
      "166\n"
     ]
    }
   ],
   "source": [
    "nameOfResultFile = 'sonidosNuevos.csv'\n",
    "audiosPath = './Audios/'\n",
    "numberOfSongsNeutral = str(len(glob.glob(audiosPath+'Neutral/AudioNeutral'+'*.wav')))\n",
    "numberOfSongsAlegria = str(len(glob.glob(audiosPath+'Alegria/AudioAlegria'+'*.wav')))\n",
    "numberOfSongsTristeza = str(len(glob.glob(audiosPath+'Tristeza/AudioTristeza'+'*.wav')))\n",
    "numberOfSongsMiedo = str(len(glob.glob(audiosPath+'Miedo/AudioMiedo'+'*.wav')))\n",
    "numberOfSongsAsco = str(len(glob.glob(audiosPath+'Asco/AudioAsco'+'*.wav')))\n",
    "numberOfSongsIra = str(len(glob.glob(audiosPath+'Ira/AudioIra'+'*.wav')))\n",
    "print(numberOfSongsNeutral)\n",
    "print(numberOfSongsAlegria)\n",
    "print(numberOfSongsTristeza)\n",
    "print(numberOfSongsMiedo)\n",
    "print(numberOfSongsAsco)\n",
    "print(numberOfSongsIra)"
   ]
  },
  {
   "cell_type": "code",
   "execution_count": 3,
   "metadata": {
    "colab": {
     "base_uri": "https://localhost:8080/",
     "height": 163
    },
    "colab_type": "code",
    "executionInfo": {
     "elapsed": 451,
     "status": "error",
     "timestamp": 1546275088176,
     "user": {
      "displayName": "JOSE MANUEL PINTO LOZANO",
      "photoUrl": "",
      "userId": "03356278153878351005"
     },
     "user_tz": -60
    },
    "id": "jshYaHTH4oPz",
    "outputId": "d9b64418-530f-4b3b-c430-5c46ec570e01"
   },
   "outputs": [],
   "source": [
    "#; para que no muestre salida (salida=Estado de salida del proceso hijo. Si falla, este será el número de error negativo.)\n",
    "subprocess.call(['praat', '--run', 'ScriptCrearCsv.praat', nameOfResultFile, audiosPath, numberOfSongsAlegria, numberOfSongsTristeza, numberOfSongsMiedo, numberOfSongsAsco, numberOfSongsIra,numberOfSongsNeutral]);"
   ]
  },
  {
   "cell_type": "code",
   "execution_count": 4,
   "metadata": {
    "colab": {},
    "colab_type": "code",
    "id": "EaAq0qwJ4oP2"
   },
   "outputs": [],
   "source": [
    "def leerCsv(filename):\n",
    "    csv = read_csv(filename,header=0)\n",
    "    columns = csv.columns.values\n",
    "    values = csv.values\n",
    "    return columns, values"
   ]
  },
  {
   "cell_type": "code",
   "execution_count": 5,
   "metadata": {
    "colab": {
     "base_uri": "https://localhost:8080/",
     "height": 999
    },
    "colab_type": "code",
    "executionInfo": {
     "elapsed": 574,
     "status": "error",
     "timestamp": 1546275089840,
     "user": {
      "displayName": "JOSE MANUEL PINTO LOZANO",
      "photoUrl": "",
      "userId": "03356278153878351005"
     },
     "user_tz": -60
    },
    "id": "SBI5La3b4oP5",
    "outputId": "3b75fd5d-f72d-4fc2-a4b2-5b7d7318170e"
   },
   "outputs": [
    {
     "name": "stdout",
     "output_type": "stream",
     "text": [
      "['meanPitch' 'minPitch' 'maxPitch' 'stdPitch' 'meanHarmonicity'\n",
      " 'minHarmonicity' 'maxHarmonicity' 'stdHarmonicity' 'minIntensity'\n",
      " 'maxIntensity' 'quantileIntensity' 'meanIntensity' 'stdIntensity'\n",
      " 'minFormant1' ' maxFormant1' ' quantileFormant1' ' meanFormant1'\n",
      " ' stdFormant1' ' minFormant2' ' maxFormant2' ' quantileFormant2'\n",
      " ' meanFormant2' ' stdFormant2' ' minFormant3' ' maxFormant3'\n",
      " ' quantileFormant3' ' meanFormant3' ' stdFormant3' ' Result'] \n",
      "\n",
      "[[213.48944886035002 74.46271267316541 602.198155584136 ...\n",
      "  2781.201156808202 473.3019607473957 0]\n",
      " [229.7674900271216 157.41587377812945 456.5149328600916 ...\n",
      "  3052.283625460165 366.2131670593552 0]\n",
      " [196.11188514640298 75.55661631888205 491.9726793918769 ...\n",
      "  3036.6646809437993 401.47204053811225 0]\n",
      " ...\n",
      " [146.66422170276832 75.40152948954001 273.8467572287091 ...\n",
      "  2665.5594170504096 465.9707700234124 4]\n",
      " [396.4304548443301 311.71429664360204 518.4137125628968 ...\n",
      "  2971.11053906902 507.5707374449432 4]\n",
      " [190.3181205039684 71.04910642497768 314.0630938393961 ...\n",
      "  2771.684307235879 416.63502036205114 4]] \n",
      "\n"
     ]
    }
   ],
   "source": [
    "cabecera, datos = leerCsv(nameOfResultFile)\n",
    "print(cabecera,\"\\n\")\n",
    "print(datos,\"\\n\")"
   ]
  },
  {
   "cell_type": "code",
   "execution_count": 6,
   "metadata": {},
   "outputs": [
    {
     "data": {
      "text/plain": [
       "634"
      ]
     },
     "execution_count": 6,
     "metadata": {},
     "output_type": "execute_result"
    }
   ],
   "source": [
    "len(datos)"
   ]
  },
  {
   "cell_type": "code",
   "execution_count": null,
   "metadata": {},
   "outputs": [],
   "source": []
  }
 ],
 "metadata": {
  "colab": {
   "name": "AnalisisAudio.ipynb",
   "provenance": [],
   "version": "0.3.2"
  },
  "kernelspec": {
   "display_name": "Python 3",
   "language": "python",
   "name": "python3"
  },
  "language_info": {
   "codemirror_mode": {
    "name": "ipython",
    "version": 3
   },
   "file_extension": ".py",
   "mimetype": "text/x-python",
   "name": "python",
   "nbconvert_exporter": "python",
   "pygments_lexer": "ipython3",
   "version": "3.7.0"
  }
 },
 "nbformat": 4,
 "nbformat_minor": 1
}
