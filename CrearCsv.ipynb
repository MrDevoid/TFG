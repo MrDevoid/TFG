{
 "cells": [
  {
   "cell_type": "code",
   "execution_count": 2,
   "metadata": {
    "colab": {},
    "colab_type": "code",
    "id": "O-WykyEd4oPq"
   },
   "outputs": [],
   "source": [
    "import subprocess\n",
    "import glob\n",
    "from pandas.io.parsers import read_csv"
   ]
  },
  {
   "cell_type": "code",
   "execution_count": 8,
   "metadata": {
    "colab": {},
    "colab_type": "code",
    "id": "mMNwtF7F4oPv"
   },
   "outputs": [],
   "source": [
    "nameOfResultFile = 'sonidosMezclados.csv'\n",
    "audiosPath = './Audios/'\n",
    "numberOfSongsNeutral = str(len(glob.glob(audiosPath+'Neutral/AudioNeutral'+'*.wav')))\n",
    "numberOfSongsAlegria = str(len(glob.glob(audiosPath+'Alegria/AudioAlegria'+'*.wav')))\n",
    "numberOfSongsTristeza = str(len(glob.glob(audiosPath+'Tristeza/AudioTristeza'+'*.wav')))\n",
    "numberOfSongsMiedo = str(len(glob.glob(audiosPath+'Miedo/AudioMiedo'+'*.wav')))\n",
    "numberOfSongsAsco = str(len(glob.glob(audiosPath+'Asco/AudioAsco'+'*.wav')))\n",
    "numberOfSongsIra = str(len(glob.glob(audiosPath+'Ira/AudioIra'+'*.wav')))"
   ]
  },
  {
   "cell_type": "code",
   "execution_count": 9,
   "metadata": {
    "colab": {
     "base_uri": "https://localhost:8080/",
     "height": 163
    },
    "colab_type": "code",
    "executionInfo": {
     "elapsed": 451,
     "status": "error",
     "timestamp": 1546275088176,
     "user": {
      "displayName": "JOSE MANUEL PINTO LOZANO",
      "photoUrl": "",
      "userId": "03356278153878351005"
     },
     "user_tz": -60
    },
    "id": "jshYaHTH4oPz",
    "outputId": "d9b64418-530f-4b3b-c430-5c46ec570e01"
   },
   "outputs": [],
   "source": [
    "#; para que no muestre salida (salida=Estado de salida del proceso hijo. Si falla, este será el número de error negativo.)\n",
    "subprocess.call(['praat', '--run', 'ScriptCrearCsv.praat', nameOfResultFile, audiosPath, numberOfSongsAlegria, numberOfSongsTristeza, numberOfSongsMiedo, numberOfSongsAsco, numberOfSongsIra,numberOfSongsNeutral]);"
   ]
  },
  {
   "cell_type": "code",
   "execution_count": 10,
   "metadata": {
    "colab": {},
    "colab_type": "code",
    "id": "EaAq0qwJ4oP2"
   },
   "outputs": [],
   "source": [
    "def leerCsv(filename):\n",
    "    csv = read_csv(filename,header=0)\n",
    "    columns = csv.columns.values\n",
    "    values = csv.values\n",
    "    return columns, values"
   ]
  },
  {
   "cell_type": "code",
   "execution_count": 11,
   "metadata": {
    "colab": {
     "base_uri": "https://localhost:8080/",
     "height": 999
    },
    "colab_type": "code",
    "executionInfo": {
     "elapsed": 574,
     "status": "error",
     "timestamp": 1546275089840,
     "user": {
      "displayName": "JOSE MANUEL PINTO LOZANO",
      "photoUrl": "",
      "userId": "03356278153878351005"
     },
     "user_tz": -60
    },
    "id": "SBI5La3b4oP5",
    "outputId": "3b75fd5d-f72d-4fc2-a4b2-5b7d7318170e",
    "scrolled": true
   },
   "outputs": [
    {
     "name": "stdout",
     "output_type": "stream",
     "text": [
      "['meanPitch' 'minPitch' 'maxPitch' 'stdPitch' 'meanHarmonicity'\n",
      " 'minHarmonicity' 'maxHarmonicity' 'stdHarmonicity' 'minIntensity'\n",
      " 'maxIntensity' 'quantileIntensity' 'meanIntensity' 'stdIntensity'\n",
      " 'minFormant1' ' maxFormant1' ' quantileFormant1' ' meanFormant1'\n",
      " ' stdFormant1' ' minFormant2' ' maxFormant2' ' quantileFormant2'\n",
      " ' meanFormant2' ' stdFormant2' ' minFormant3' ' maxFormant3'\n",
      " ' quantileFormant3' ' meanFormant3' ' stdFormant3' ' Result'] \n",
      "\n",
      "[[193.075914673389 78.10449322060342 562.7483515267379 ...\n",
      "  3019.5754440339656 419.0751893660618 5]\n",
      " [138.52342560970823 74.7372414242415 498.26937913615035 ...\n",
      "  3045.140301248258 411.1642716212251 5]\n",
      " [124.29583523701513 76.10658571093762 240.9779942402692 ...\n",
      "  2833.476784499256 520.7869896523272 5]\n",
      " ...\n",
      " [264.8939976971325 124.46560337139329 385.9027646538202 ...\n",
      "  2920.8230378990806 344.1222001722791 4]\n",
      " [264.0240908890419 126.45767620807119 374.64272478900256 ...\n",
      "  2960.6573256803554 314.4288460303395 4]\n",
      " [306.05400721207366 192.89922691457107 482.5956047178537 ...\n",
      "  3116.9193503895826 340.3315687877663 4]] \n",
      "\n"
     ]
    }
   ],
   "source": [
    "cabecera, datos = leerCsv(nameOfResultFile)\n",
    "print(cabecera,\"\\n\")\n",
    "print(datos,\"\\n\")"
   ]
  },
  {
   "cell_type": "code",
   "execution_count": 12,
   "metadata": {},
   "outputs": [
    {
     "data": {
      "text/plain": [
       "850"
      ]
     },
     "execution_count": 12,
     "metadata": {},
     "output_type": "execute_result"
    }
   ],
   "source": [
    "len(datos)"
   ]
  },
  {
   "cell_type": "code",
   "execution_count": 5,
   "metadata": {},
   "outputs": [],
   "source": [
    "nameOfResultFile = 'sonidosPrueba.csv'\n",
    "audiosPath = './Audios/Alegria/'\n",
    "subprocess.call(['praat', '--run', 'TransformarAudio.praat', audiosPath,nameOfResultFile]);"
   ]
  },
  {
   "cell_type": "code",
   "execution_count": null,
   "metadata": {},
   "outputs": [],
   "source": []
  }
 ],
 "metadata": {
  "colab": {
   "name": "AnalisisAudio.ipynb",
   "provenance": [],
   "version": "0.3.2"
  },
  "kernelspec": {
   "display_name": "Python 3",
   "language": "python",
   "name": "python3"
  },
  "language_info": {
   "codemirror_mode": {
    "name": "ipython",
    "version": 3
   },
   "file_extension": ".py",
   "mimetype": "text/x-python",
   "name": "python",
   "nbconvert_exporter": "python",
   "pygments_lexer": "ipython3",
   "version": "3.7.0"
  }
 },
 "nbformat": 4,
 "nbformat_minor": 1
}
