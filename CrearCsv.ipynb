{
 "cells": [
  {
   "cell_type": "code",
   "execution_count": 1,
   "metadata": {
    "colab": {},
    "colab_type": "code",
    "id": "O-WykyEd4oPq"
   },
   "outputs": [],
   "source": [
    "import subprocess\n",
    "import glob\n",
    "from pandas.io.parsers import read_csv"
   ]
  },
  {
   "cell_type": "code",
   "execution_count": 8,
   "metadata": {
    "colab": {},
    "colab_type": "code",
    "id": "mMNwtF7F4oPv"
   },
   "outputs": [],
   "source": [
    "nameOfResultFile = 'sonidosMezclados.csv'\n",
    "audiosPath = './Audios/'\n",
    "numberOfSongsNeutral = str(len(glob.glob(audiosPath+'Neutral/AudioNeutral'+'*.wav')))\n",
    "numberOfSongsAlegria = str(len(glob.glob(audiosPath+'Alegria/AudioAlegria'+'*.wav')))\n",
    "numberOfSongsTristeza = str(len(glob.glob(audiosPath+'Tristeza/AudioTristeza'+'*.wav')))\n",
    "numberOfSongsMiedo = str(len(glob.glob(audiosPath+'Miedo/AudioMiedo'+'*.wav')))\n",
    "numberOfSongsAsco = str(len(glob.glob(audiosPath+'Asco/AudioAsco'+'*.wav')))\n",
    "numberOfSongsIra = str(len(glob.glob(audiosPath+'Ira/AudioIra'+'*.wav')))"
   ]
  },
  {
   "cell_type": "code",
   "execution_count": 9,
   "metadata": {
    "colab": {
     "base_uri": "https://localhost:8080/",
     "height": 163
    },
    "colab_type": "code",
    "executionInfo": {
     "elapsed": 451,
     "status": "error",
     "timestamp": 1546275088176,
     "user": {
      "displayName": "JOSE MANUEL PINTO LOZANO",
      "photoUrl": "",
      "userId": "03356278153878351005"
     },
     "user_tz": -60
    },
    "id": "jshYaHTH4oPz",
    "outputId": "d9b64418-530f-4b3b-c430-5c46ec570e01"
   },
   "outputs": [],
   "source": [
    "#; para que no muestre salida (salida=Estado de salida del proceso hijo. Si falla, este será el número de error negativo.)\n",
    "subprocess.call(['praat', '--run', 'ScriptCrearCsv.praat', nameOfResultFile, audiosPath, numberOfSongsAlegria, numberOfSongsTristeza, numberOfSongsMiedo, numberOfSongsAsco, numberOfSongsIra,numberOfSongsNeutral]);"
   ]
  },
  {
   "cell_type": "code",
   "execution_count": 3,
   "metadata": {},
   "outputs": [],
   "source": [
    "nameOfResultFile = 'sonidosPrueba.csv'\n",
    "audiosPath = './Prueba'\n",
    "subprocess.call(['praat', '--run', 'TransformarAudio.praat', audiosPath,nameOfResultFile]);"
   ]
  },
  {
   "cell_type": "code",
   "execution_count": null,
   "metadata": {},
   "outputs": [],
   "source": []
  }
 ],
 "metadata": {
  "colab": {
   "name": "AnalisisAudio.ipynb",
   "provenance": [],
   "version": "0.3.2"
  },
  "kernelspec": {
   "display_name": "Python 3",
   "language": "python",
   "name": "python3"
  },
  "language_info": {
   "codemirror_mode": {
    "name": "ipython",
    "version": 3
   },
   "file_extension": ".py",
   "mimetype": "text/x-python",
   "name": "python",
   "nbconvert_exporter": "python",
   "pygments_lexer": "ipython3",
   "version": "3.7.1"
  }
 },
 "nbformat": 4,
 "nbformat_minor": 1
}
