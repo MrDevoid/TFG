{
 "cells": [
  {
   "cell_type": "code",
   "execution_count": 20,
   "metadata": {},
   "outputs": [],
   "source": [
    "import pandas as pd\n",
    "import numpy as np\n",
    "from sklearn.preprocessing import MinMaxScaler\n",
    "from sklearn.ensemble import AdaBoostClassifier\n",
    "from sklearn.model_selection  import cross_val_score"
   ]
  },
  {
   "cell_type": "code",
   "execution_count": 21,
   "metadata": {},
   "outputs": [],
   "source": [
    "df = pd.read_csv('sonidosNuevos.csv')\n",
    "df = df.drop(['minFormant1'], axis=1)"
   ]
  },
  {
   "cell_type": "code",
   "execution_count": 22,
   "metadata": {},
   "outputs": [],
   "source": [
    "X = df.drop(['Result'], axis=1)\n",
    "y = df.Result"
   ]
  },
  {
   "cell_type": "code",
   "execution_count": 23,
   "metadata": {},
   "outputs": [],
   "source": [
    "scaler = MinMaxScaler()\n",
    "scaled_df = scaler.fit_transform(X)"
   ]
  },
  {
   "cell_type": "code",
   "execution_count": 24,
   "metadata": {},
   "outputs": [],
   "source": [
    "X_normalized = pd.DataFrame(scaled_df)"
   ]
  },
  {
   "cell_type": "code",
   "execution_count": 25,
   "metadata": {},
   "outputs": [
    {
     "name": "stdout",
     "output_type": "stream",
     "text": [
      "Numero estimadores 1\n",
      "0.535532443660253\n",
      "Numero estimadores 11\n",
      "0.49825275596957247\n",
      "Numero estimadores 21\n",
      "0.48344126276288496\n",
      "Numero estimadores 31\n",
      "0.4609252201724769\n",
      "Numero estimadores 41\n",
      "0.4579273913883578\n",
      "Numero estimadores 51\n",
      "0.4845955029898711\n",
      "Numero estimadores 61\n",
      "0.48425687975430176\n",
      "Numero estimadores 71\n",
      "0.48807820699263715\n",
      "Numero estimadores 81\n",
      "0.5005542448033193\n",
      "Numero estimadores 91\n",
      "0.49538427215962255\n"
     ]
    }
   ],
   "source": [
    "for i in range(1, 101, 10):\n",
    "    model = AdaBoostClassifier(n_estimators=i)\n",
    "    scores = cross_val_score(model, X_normalized, y, cv=10, scoring='accuracy')\n",
    "    print('Numero estimadores', i)\n",
    "    print(scores.mean())"
   ]
  },
  {
   "cell_type": "code",
   "execution_count": 26,
   "metadata": {},
   "outputs": [
    {
     "name": "stdout",
     "output_type": "stream",
     "text": [
      "Numero estimadores 1\n",
      "0.4846223253874629\n",
      "Numero estimadores 11\n",
      "0.6483920163324248\n",
      "Numero estimadores 21\n",
      "0.6896171897246065\n",
      "Numero estimadores 31\n",
      "0.6798820831468901\n",
      "Numero estimadores 41\n",
      "0.6814925075255258\n",
      "Numero estimadores 51\n",
      "0.6879442729731928\n",
      "Numero estimadores 61\n",
      "0.694223040312411\n",
      "Numero estimadores 71\n",
      "0.7036748083024855\n",
      "Numero estimadores 81\n",
      "0.6990137493389742\n",
      "Numero estimadores 91\n",
      "0.7084896320628077\n"
     ]
    }
   ],
   "source": [
    "from sklearn.ensemble import RandomForestClassifier\n",
    "for i in range(1, 101, 10):\n",
    "    model = RandomForestClassifier(n_estimators=i)\n",
    "    scores = cross_val_score(model, X_normalized, y, cv=10, scoring='accuracy')\n",
    "    print('Numero estimadores' , i)\n",
    "    print(scores.mean())"
   ]
  },
  {
   "cell_type": "code",
   "execution_count": 27,
   "metadata": {},
   "outputs": [
    {
     "name": "stdout",
     "output_type": "stream",
     "text": [
      "C = 1 gamma = 0.1 : 0.5568790678517676\n",
      "C = 1 gamma = 0.01 : 0.5123922527763088\n",
      "C = 1 gamma = 0.001 : 0.3486679310905911\n",
      "C = 10 gamma = 0.1 : 0.6859303939714436\n",
      "C = 10 gamma = 0.01 : 0.5504274549485417\n",
      "C = 10 gamma = 0.001 : 0.5123922527763088\n",
      "C = 100 gamma = 0.1 : 0.7320805917707359\n",
      "C = 100 gamma = 0.01 : 0.6590078636659479\n",
      "C = 100 gamma = 0.001 : 0.5536292992108367\n"
     ]
    }
   ],
   "source": [
    "from sklearn.svm import SVC\n",
    "for i in [1, 10, 100]:\n",
    "    for j in [0.1, 0.01, 0.001]:\n",
    "        model = SVC(kernel='rbf', C=i, gamma=j)\n",
    "        scores = cross_val_score(model, X_normalized, y, cv=10, scoring='accuracy')\n",
    "        print('C =', i, 'gamma =', j, ':', scores.mean())"
   ]
  },
  {
   "cell_type": "code",
   "execution_count": null,
   "metadata": {},
   "outputs": [],
   "source": []
  },
  {
   "cell_type": "code",
   "execution_count": null,
   "metadata": {},
   "outputs": [],
   "source": []
  },
  {
   "cell_type": "code",
   "execution_count": null,
   "metadata": {},
   "outputs": [],
   "source": []
  },
  {
   "cell_type": "code",
   "execution_count": null,
   "metadata": {},
   "outputs": [],
   "source": []
  },
  {
   "cell_type": "code",
   "execution_count": null,
   "metadata": {},
   "outputs": [],
   "source": []
  },
  {
   "cell_type": "code",
   "execution_count": null,
   "metadata": {},
   "outputs": [],
   "source": []
  },
  {
   "cell_type": "code",
   "execution_count": null,
   "metadata": {},
   "outputs": [],
   "source": []
  },
  {
   "cell_type": "code",
   "execution_count": null,
   "metadata": {},
   "outputs": [],
   "source": []
  },
  {
   "cell_type": "code",
   "execution_count": null,
   "metadata": {},
   "outputs": [],
   "source": []
  }
 ],
 "metadata": {
  "kernelspec": {
   "display_name": "Python 3",
   "language": "python",
   "name": "python3"
  },
  "language_info": {
   "codemirror_mode": {
    "name": "ipython",
    "version": 3
   },
   "file_extension": ".py",
   "mimetype": "text/x-python",
   "name": "python",
   "nbconvert_exporter": "python",
   "pygments_lexer": "ipython3",
   "version": "3.6.5"
  }
 },
 "nbformat": 4,
 "nbformat_minor": 2
}
